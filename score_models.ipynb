{
 "cells": [
  {
   "cell_type": "code",
   "execution_count": 88,
   "metadata": {},
   "outputs": [],
   "source": [
    "import pandas as pd\n",
    "import numpy as np"
   ]
  },
  {
   "cell_type": "code",
   "execution_count": 89,
   "metadata": {},
   "outputs": [],
   "source": [
    "from sklearn.metrics import mean_squared_error"
   ]
  },
  {
   "cell_type": "code",
   "execution_count": 90,
   "metadata": {},
   "outputs": [],
   "source": [
    "import os"
   ]
  },
  {
   "cell_type": "code",
   "execution_count": 91,
   "metadata": {},
   "outputs": [],
   "source": [
    "y_true = pd.read_csv('datasets/test_set.csv')['cpi_pct'].to_numpy()"
   ]
  },
  {
   "cell_type": "code",
   "execution_count": 92,
   "metadata": {},
   "outputs": [
    {
     "name": "stdout",
     "output_type": "stream",
     "text": [
      "benchmark1_mean rmse: 0.0032184\n",
      "benchmark2_prev rmse: 0.0026672\n",
      "benchmark3_rf rmse: 0.0020702\n",
      "bma rmse: 0.0020429\n",
      "lasso_bic rmse: 0.0021015\n",
      "lasso_cv rmse: 0.0021016\n",
      "lasso_cvshuffled rmse: 0.0019987\n",
      "lasso_ebic rmse: 0.0021058\n",
      "ols rmse: 0.0030478\n",
      "ridge_cv rmse: 0.0021375\n"
     ]
    }
   ],
   "source": [
    "prediction = []\n",
    "for file_name in os.listdir('predictions/'):\n",
    "    \n",
    "    if file_name[:3] == 'pca':\n",
    "        continue\n",
    "    \n",
    "    y_pred = pd.read_csv(f'predictions/{file_name}', index_col=0).to_numpy()\n",
    "    \n",
    "    name = file_name.rsplit('.', 1)[0]\n",
    "    rmse =  mean_squared_error(y_true, y_pred, squared=False)\n",
    "    print(name, \"rmse:\", round(rmse, 7))\n",
    "    prediction.append({'model': name, 'rmse:': rmse})"
   ]
  },
  {
   "cell_type": "code",
   "execution_count": 95,
   "metadata": {},
   "outputs": [
    {
     "name": "stdout",
     "output_type": "stream",
     "text": [
      "Collecting Jinja2\n",
      "  Using cached Jinja2-3.1.2-py3-none-any.whl (133 kB)\n",
      "Requirement already satisfied: MarkupSafe>=2.0 in c:\\users\\jkage\\miniconda3\\envs\\uni\\lib\\site-packages (from Jinja2) (2.1.3)\n",
      "Installing collected packages: Jinja2\n",
      "Successfully installed Jinja2-3.1.2\n"
     ]
    }
   ],
   "source": [
    "!pip install Jinja2"
   ]
  },
  {
   "cell_type": "markdown",
   "metadata": {},
   "source": [
    "$$\n",
    "\\\\begin{tabular}{llr}\\n\\\\toprule\\n & model & rmse: \\\\\\\\\\n\\\\midrule\\n0 & benchmark1_mean & 0.003218 \\\\\\\\\\n1 & benchmark2_prev & 0.002667 \\\\\\\\\\n2 & benchmark3_rf & 0.002070 \\\\\\\\\\n3 & bma & 0.002043 \\\\\\\\\\n4 & lasso_bic & 0.002101 \\\\\\\\\\n5 & lasso_cv & 0.002102 \\\\\\\\\\n6 & lasso_cvshuffled & 0.001999 \\\\\\\\\\n7 & lasso_ebic & 0.002106 \\\\\\\\\\n8 & ols & 0.003048 \\\\\\\\\\n9 & ridge_cv & 0.002137 \\\\\\\\\\n\\\\bottomrule\\n\\\\end{tabular}\\n\n",
    "$$"
   ]
  },
  {
   "cell_type": "code",
   "execution_count": 98,
   "metadata": {},
   "outputs": [
    {
     "data": {
      "text/plain": [
       "'\\\\begin{tabular}{llr}\\n\\\\toprule\\n & model & rmse: \\\\\\\\\\n\\\\midrule\\n0 & benchmark1_mean & 0.003218 \\\\\\\\\\n1 & benchmark2_prev & 0.002667 \\\\\\\\\\n2 & benchmark3_rf & 0.002070 \\\\\\\\\\n3 & bma & 0.002043 \\\\\\\\\\n4 & lasso_bic & 0.002101 \\\\\\\\\\n5 & lasso_cv & 0.002102 \\\\\\\\\\n6 & lasso_cvshuffled & 0.001999 \\\\\\\\\\n7 & lasso_ebic & 0.002106 \\\\\\\\\\n8 & ols & 0.003048 \\\\\\\\\\n9 & ridge_cv & 0.002137 \\\\\\\\\\n\\\\bottomrule\\n\\\\end{tabular}\\n'"
      ]
     },
     "execution_count": 98,
     "metadata": {},
     "output_type": "execute_result"
    }
   ],
   "source": [
    "pd.DataFrame(prediction).to_latex()"
   ]
  },
  {
   "cell_type": "markdown",
   "metadata": {},
   "source": [
    "2000-2023 model:\n",
    "\n",
    "- benchmark1_mean rmse: 0.0026948\n",
    "- benchmark2_prev rmse: 0.0034082\n",
    "- bma rmse: 0.002297\n",
    "- lasso_bic rmse: 0.0023243\n",
    "- lasso_ebic rmse: 0.0023711\n",
    "- lasso_cv rmse: 0.0027338\n",
    "- lasso_cvshuffled rmse: 0.0027338\n",
    "- ols rmse: 0.0279417\n",
    "- ridge_cv rmse: 0.0024787"
   ]
  },
  {
   "cell_type": "markdown",
   "metadata": {},
   "source": [
    "1970-2023 model:\n",
    "\n",
    "- benchmark1_mean rmse: 0.0032184\n",
    "- benchmark2_prev rmse: 0.0026672\n",
    "- benchmark3_rf rmse: 0.0020702\n",
    "- bma rmse: 0.0020429\n",
    "- lasso_bic rmse: 0.0021015\n",
    "- lasso_cv rmse: 0.0021016\n",
    "- lasso_cvshuffled rmse: 0.0019987\n",
    "- lasso_ebic rmse: 0.0021058\n",
    "- ols rmse: 0.0030478\n",
    "- ridge_cv rmse: 0.0021375"
   ]
  },
  {
   "cell_type": "markdown",
   "metadata": {},
   "source": []
  }
 ],
 "metadata": {
  "kernelspec": {
   "display_name": "Uni py312",
   "language": "python",
   "name": "uni"
  },
  "language_info": {
   "codemirror_mode": {
    "name": "ipython",
    "version": 3
   },
   "file_extension": ".py",
   "mimetype": "text/x-python",
   "name": "python",
   "nbconvert_exporter": "python",
   "pygments_lexer": "ipython3",
   "version": "3.12.0"
  }
 },
 "nbformat": 4,
 "nbformat_minor": 2
}
