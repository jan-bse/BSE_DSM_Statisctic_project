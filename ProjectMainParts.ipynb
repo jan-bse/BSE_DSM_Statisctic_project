{
 "cells": [
  {
   "cell_type": "code",
   "execution_count": null,
   "id": "2923d727",
   "metadata": {},
   "outputs": [],
   "source": []
  },
  {
   "cell_type": "code",
   "execution_count": null,
   "id": "7d1900f6",
   "metadata": {},
   "outputs": [],
   "source": [
    "split 25% for test\n",
    "\n",
    "\n",
    "X1 X2 ... Xt\n",
    "\n",
    "y1 y2 ... yt\n",
    "\n",
    "n ~ 450 \n",
    "d ~ 100\n",
    "\n",
    "\n",
    "Problem: Very high correlation in Covariates\n",
    "Problem: We have an autocorrelated timeseries, but put yt-1 as one of our input features for Xt should fix that \n",
    "\n",
    "Part 1:\n",
    "    Ols \n",
    "    Lasso with CV\n",
    "    Ridge with CV\n",
    "    Adaptive Lasso with CV\n",
    "    Lasso with EBIC\n",
    "    \n",
    "    BMA\n",
    "    \n",
    "    \n",
    "    \n",
    "Part 2:\n",
    "    Use PCA and GMMs for dim reduction\n",
    "    \n",
    "    5 - 50 K for GMM \n",
    "    \n",
    "    Try best method from part 1 again\n",
    "    \n",
    "    \n",
    "    \n",
    "    \n",
    "    \n",
    "    \n",
    "\n",
    "\n"
   ]
  },
  {
   "cell_type": "code",
   "execution_count": null,
   "id": "8ca99602",
   "metadata": {},
   "outputs": [],
   "source": []
  },
  {
   "cell_type": "code",
   "execution_count": null,
   "id": "0e552834",
   "metadata": {},
   "outputs": [],
   "source": []
  },
  {
   "cell_type": "code",
   "execution_count": null,
   "id": "abba6c40",
   "metadata": {},
   "outputs": [],
   "source": []
  }
 ],
 "metadata": {
  "kernelspec": {
   "display_name": "Uni py312",
   "language": "python",
   "name": "uni"
  },
  "language_info": {
   "codemirror_mode": {
    "name": "ipython",
    "version": 3
   },
   "file_extension": ".py",
   "mimetype": "text/x-python",
   "name": "python",
   "nbconvert_exporter": "python",
   "pygments_lexer": "ipython3",
   "version": "3.12.0"
  }
 },
 "nbformat": 4,
 "nbformat_minor": 5
}
