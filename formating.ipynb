{
 "cells": [
  {
   "cell_type": "code",
   "execution_count": 44,
   "metadata": {},
   "outputs": [],
   "source": [
    "import pandas as pd"
   ]
  },
  {
   "cell_type": "code",
   "execution_count": 63,
   "metadata": {},
   "outputs": [],
   "source": [
    "normal = pd.read_csv('results/1970_2023_model_scores.csv')[['model', 'rmse']].rename({\"rmse\": \"normal\"}, axis=1)\n",
    "normal.index = ['benchmark1_mean', 'benchmark2_prev', 'benchmark3_rf', 'ols', 'ridge_cv', 'lasso_cv', 'lasso_cvshuffled', 'lasso_bic', 'lasso_ebic', 'bma']"
   ]
  },
  {
   "cell_type": "code",
   "execution_count": 64,
   "metadata": {},
   "outputs": [],
   "source": [
    "pca =pd.read_csv('results/1970_2023_pca_model_scores_sorted.csv')[['model', 'rmse']].rename({\"rmse\": \"pca\"}, axis=1)\n",
    "pca.index = ['lasso_cv', 'lasso_bic', 'ridge_cv', 'bma', 'ols']"
   ]
  },
  {
   "cell_type": "code",
   "execution_count": 65,
   "metadata": {},
   "outputs": [],
   "source": [
    "pca50 = pd.read_csv('results/1970_2023_pca50_model_scores_sorted.csv')[['model', 'rmse']].rename({\"rmse\": \"pca50\"}, axis=1)\n",
    "pca50.index = ['ols', 'lasso_cv', 'ridge_cv', 'lasso_bic', 'bma']"
   ]
  },
  {
   "cell_type": "code",
   "execution_count": 66,
   "metadata": {},
   "outputs": [],
   "source": [
    "latex_str = pd.concat([normal, pca, pca50], axis=1).drop('model', axis=1).to_latex(na_rep='-')"
   ]
  },
  {
   "cell_type": "code",
   "execution_count": 83,
   "metadata": {},
   "outputs": [],
   "source": [
    "latex_str = pd.read_csv('results/all_model_coefs_sorted.csv', index_col=0).to_latex().replace('_', '\\\\_')\n"
   ]
  },
  {
   "cell_type": "code",
   "execution_count": 84,
   "metadata": {},
   "outputs": [],
   "source": [
    "# Specify the file path\n",
    "file_path = \"latex2.txt\"\n",
    "\n",
    "# Open the file in write mode and write the string to it\n",
    "with open(file_path, \"w\") as file:\n",
    "    file.write(latex_str)"
   ]
  },
  {
   "cell_type": "code",
   "execution_count": 76,
   "metadata": {},
   "outputs": [
    {
     "data": {
      "text/plain": [
       "'\\\\begin{tabular}{lrr}\\n\\\\toprule\\n & rmse & diff to best \\\\\\\\\\nmodel &  &  \\\\\\\\\\n\\\\midrule\\npca\\\\_lasso\\\\_cv & 0.002438 & 0.000000 \\\\\\\\\\npca\\\\_lasso\\\\_bic & 0.002441 & 0.000004 \\\\\\\\\\npca\\\\_ridge\\\\_cv & 0.002444 & 0.000007 \\\\\\\\\\npca\\\\_bma & 0.003005 & 0.000567 \\\\\\\\\\npca\\\\_ols & 0.003081 & 0.000644 \\\\\\\\\\n\\\\bottomrule\\n\\\\end{tabular}\\n'"
      ]
     },
     "execution_count": 76,
     "metadata": {},
     "output_type": "execute_result"
    }
   ],
   "source": [
    "latex_str.replace('_', '\\\\_')"
   ]
  },
  {
   "cell_type": "code",
   "execution_count": 82,
   "metadata": {},
   "outputs": [
    {
     "data": {
      "text/plain": [
       "'\\\\begin{tabular}{lrr}\\n\\\\toprule\\n & rmse & diff to best \\\\\\\\\\nmodel &  &  \\\\\\\\\\n\\\\midrule\\npca\\\\_lasso\\\\_cv & 0.002438 & 0.000000 \\\\\\\\\\npca\\\\_lasso\\\\_bic & 0.002441 & 0.000004 \\\\\\\\\\npca\\\\_ridge\\\\_cv & 0.002444 & 0.000007 \\\\\\\\\\npca\\\\_bma & 0.003005 & 0.000567 \\\\\\\\\\npca\\\\_ols & 0.003081 & 0.000644 \\\\\\\\\\n\\\\bottomrule\\n\\\\end{tabular}\\n'"
      ]
     },
     "execution_count": 82,
     "metadata": {},
     "output_type": "execute_result"
    }
   ],
   "source": [
    "latex_str"
   ]
  },
  {
   "cell_type": "code",
   "execution_count": null,
   "metadata": {},
   "outputs": [],
   "source": []
  }
 ],
 "metadata": {
  "kernelspec": {
   "display_name": "Uni py312",
   "language": "python",
   "name": "uni"
  },
  "language_info": {
   "codemirror_mode": {
    "name": "ipython",
    "version": 3
   },
   "file_extension": ".py",
   "mimetype": "text/x-python",
   "name": "python",
   "nbconvert_exporter": "python",
   "pygments_lexer": "ipython3",
   "version": "3.12.0"
  }
 },
 "nbformat": 4,
 "nbformat_minor": 2
}
