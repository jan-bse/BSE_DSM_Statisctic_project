{
 "cells": [
  {
   "cell_type": "code",
   "execution_count": 139,
   "metadata": {},
   "outputs": [],
   "source": [
    "import pandas as pd\n",
    "import numpy as np"
   ]
  },
  {
   "cell_type": "code",
   "execution_count": 140,
   "metadata": {},
   "outputs": [],
   "source": [
    "from sklearn.metrics import mean_squared_error"
   ]
  },
  {
   "cell_type": "code",
   "execution_count": 141,
   "metadata": {},
   "outputs": [],
   "source": [
    "import os"
   ]
  },
  {
   "cell_type": "code",
   "execution_count": 142,
   "metadata": {},
   "outputs": [],
   "source": [
    "y_true = pd.read_csv('datasets/test_set.csv')['cpi_pct'].to_numpy()"
   ]
  },
  {
   "cell_type": "code",
   "execution_count": 143,
   "metadata": {},
   "outputs": [
    {
     "name": "stdout",
     "output_type": "stream",
     "text": [
      "pca50_lasso_cv rmse: 0.0022366\n",
      "pca50_lasso_cvshuffled rmse: 0.0032184\n",
      "pca50_ols rmse: 0.002213\n",
      "pca50_ridge_cv rmse: 0.0022573\n"
     ]
    }
   ],
   "source": [
    "prediction = []\n",
    "for file_name in os.listdir('predictions/'):\n",
    "    \n",
    "    if file_name[:4] != 'pca5':\n",
    "        continue\n",
    "    \n",
    "    y_pred = pd.read_csv(f'predictions/{file_name}', index_col=0).to_numpy()\n",
    "    \n",
    "    name = file_name.rsplit('.', 1)[0]\n",
    "    rmse =  mean_squared_error(y_true, y_pred, squared=False)\n",
    "    print(name, \"rmse:\", round(rmse, 7))\n",
    "    prediction.append({'model': name, 'rmse': rmse})"
   ]
  },
  {
   "cell_type": "code",
   "execution_count": 124,
   "metadata": {},
   "outputs": [],
   "source": [
    "sorting = ['benchmark1_mean', 'benchmark2_prev', 'benchmark3_rf', \n",
    "           'ols','ridge_cv', 'lasso_cv', 'lasso_cvshuffled',\n",
    "           'lasso_bic', 'lasso_ebic', 'bma']"
   ]
  },
  {
   "cell_type": "code",
   "execution_count": 125,
   "metadata": {},
   "outputs": [],
   "source": [
    "score_df = pd.DataFrame(prediction).set_index('model')"
   ]
  },
  {
   "cell_type": "code",
   "execution_count": 126,
   "metadata": {},
   "outputs": [],
   "source": [
    "score_df['diff to best'] =  score_df.rmse - score_df.rmse.min()"
   ]
  },
  {
   "cell_type": "code",
   "execution_count": 127,
   "metadata": {},
   "outputs": [],
   "source": [
    "#score_df.loc[sorting, :].to_csv('results/1970_2023_model_scores.csv')\n",
    "score_df.sort_values('rmse').to_csv('results/1970_2023_pca_model_scores_sorted.csv')"
   ]
  },
  {
   "cell_type": "code",
   "execution_count": 137,
   "metadata": {},
   "outputs": [],
   "source": [
    "sorted_cols = score_df.sort_values('rmse').index"
   ]
  },
  {
   "cell_type": "markdown",
   "metadata": {},
   "source": [
    "2000-2023 model:\n",
    "\n",
    "- benchmark1_mean rmse: 0.0026948\n",
    "- benchmark2_prev rmse: 0.0034082\n",
    "- bma rmse: 0.002297\n",
    "- lasso_bic rmse: 0.0023243\n",
    "- lasso_ebic rmse: 0.0023711\n",
    "- lasso_cv rmse: 0.0027338\n",
    "- lasso_cvshuffled rmse: 0.0027338\n",
    "- ols rmse: 0.0279417\n",
    "- ridge_cv rmse: 0.0024787"
   ]
  },
  {
   "cell_type": "markdown",
   "metadata": {},
   "source": [
    "1970-2023 model:\n",
    "\n",
    "- benchmark1_mean rmse: 0.0032184\n",
    "- benchmark2_prev rmse: 0.0026672\n",
    "- benchmark3_rf rmse: 0.0020702\n",
    "- bma rmse: 0.0020429\n",
    "- lasso_bic rmse: 0.0021015\n",
    "- lasso_cv rmse: 0.0021016\n",
    "- lasso_cvshuffled rmse: 0.0019987\n",
    "- lasso_ebic rmse: 0.0021058\n",
    "- ols rmse: 0.0030478\n",
    "- ridge_cv rmse: 0.0021375"
   ]
  },
  {
   "cell_type": "markdown",
   "metadata": {},
   "source": [
    "1970-2023 model (PCA):\n",
    "\n",
    "- benchmark1_mean rmse: 0.0026948\n",
    "- benchmark2_prev rmse: 0.0034082\n",
    "- benchmark3_rf rmse: 0.0020702\n",
    "- bma rmse: 0.002297\n",
    "- lasso_bic rmse: 0.0023243\n",
    "- lasso_ebic rmse: 0.0023711\n",
    "- lasso_cv rmse: 0.0027338\n",
    "- lasso_cvshuffled rmse: 0.0027338\n",
    "- ols rmse: 0.0279417\n",
    "- ridge_cv rmse: 0.0024787"
   ]
  },
  {
   "cell_type": "code",
   "execution_count": 129,
   "metadata": {},
   "outputs": [
    {
     "name": "stdout",
     "output_type": "stream",
     "text": [
      "pca_bma_coefs\n",
      "pca_lasso_bic_coefs\n",
      "pca_lasso_cvshuffled_coefs\n",
      "pca_lasso_cv_coefs\n",
      "pca_lasso_ebic_coefs\n",
      "pca_ols_coefs\n",
      "pca_ridge_cv_coefs\n"
     ]
    }
   ],
   "source": [
    "df_list = []\n",
    "\n",
    "\n",
    "for file_name in os.listdir('models/coefs/'):\n",
    "    \n",
    "    coefs = pd.read_csv(f'models/coefs/{file_name}', index_col=0)\n",
    "    \n",
    "    if file_name[:4] != 'pca_':\n",
    "        continue\n",
    "    \n",
    "    if file_name in [\"bma_coefs.csv\", \"pca_bma_coefs.csv\"]:  \n",
    "        coefs = coefs.rename({'intercept': 'Intercept'})\n",
    "     \n",
    "    name = file_name.rsplit('.', 1)[0]\n",
    "    \n",
    "    if name[-5:] != 'coefs':\n",
    "        continue\n",
    "\n",
    "    coefs.columns = [name[:-6]]\n",
    "    \n",
    "\n",
    "    print(name)\n",
    "    df_list.append(coefs)\n"
   ]
  },
  {
   "cell_type": "code",
   "execution_count": 130,
   "metadata": {},
   "outputs": [],
   "source": [
    "df = pd.concat(df_list, axis=1).replace(-0, 0)"
   ]
  },
  {
   "cell_type": "code",
   "execution_count": 131,
   "metadata": {},
   "outputs": [],
   "source": [
    "df.to_csv('results/all_pca_model_coefs.csv')"
   ]
  },
  {
   "cell_type": "code",
   "execution_count": 133,
   "metadata": {},
   "outputs": [],
   "source": [
    "sorted_idx = df.abs().sort_values('pca_lasso_cv', ascending=False).index"
   ]
  },
  {
   "cell_type": "code",
   "execution_count": 138,
   "metadata": {},
   "outputs": [],
   "source": [
    "df.loc[sorted_idx, sorted_cols].to_csv('results/all_pca_model_coefs_sorted.csv')"
   ]
  },
  {
   "cell_type": "code",
   "execution_count": 135,
   "metadata": {},
   "outputs": [
    {
     "data": {
      "text/plain": [
       "Index(['pca_bma', 'pca_lasso_bic', 'pca_lasso_cvshuffled', 'pca_lasso_cv',\n",
       "       'pca_lasso_ebic', 'pca_ols', 'pca_ridge_cv'],\n",
       "      dtype='object')"
      ]
     },
     "execution_count": 135,
     "metadata": {},
     "output_type": "execute_result"
    }
   ],
   "source": [
    "df.columns"
   ]
  },
  {
   "cell_type": "code",
   "execution_count": null,
   "metadata": {},
   "outputs": [],
   "source": [
    "['pca_bma', 'pca_lasso_bic', 'pca_lasso_cvshuffled', 'pca_lasso_cv',\n",
    "       'pca_lasso_ebic', 'pca_ols', 'pca_ridge_cv']"
   ]
  }
 ],
 "metadata": {
  "kernelspec": {
   "display_name": "Uni py312",
   "language": "python",
   "name": "uni"
  },
  "language_info": {
   "codemirror_mode": {
    "name": "ipython",
    "version": 3
   },
   "file_extension": ".py",
   "mimetype": "text/x-python",
   "name": "python",
   "nbconvert_exporter": "python",
   "pygments_lexer": "ipython3",
   "version": "3.12.0"
  }
 },
 "nbformat": 4,
 "nbformat_minor": 2
}
