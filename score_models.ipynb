{
 "cells": [
  {
   "cell_type": "code",
   "execution_count": 52,
   "metadata": {},
   "outputs": [],
   "source": [
    "import pandas as pd\n",
    "import numpy as np"
   ]
  },
  {
   "cell_type": "code",
   "execution_count": 53,
   "metadata": {},
   "outputs": [],
   "source": [
    "from sklearn.metrics import mean_squared_error"
   ]
  },
  {
   "cell_type": "code",
   "execution_count": 54,
   "metadata": {},
   "outputs": [],
   "source": [
    "import os"
   ]
  },
  {
   "cell_type": "code",
   "execution_count": 55,
   "metadata": {},
   "outputs": [],
   "source": [
    "y_true = pd.read_csv('datasets/test_set.csv')['cpi_pct'].to_numpy()"
   ]
  },
  {
   "cell_type": "code",
   "execution_count": 56,
   "metadata": {},
   "outputs": [
    {
     "name": "stdout",
     "output_type": "stream",
     "text": [
      "benchmark1_mean rmse: 0.0032184\n",
      "benchmark2_prev rmse: 0.0026672\n",
      "bma rmse: 0.00245\n",
      "lasso_bic rmse: 0.0022538\n",
      "lasso_cv rmse: 0.0021016\n",
      "lasso_cvshuffled rmse: 0.0019987\n",
      "lasso_ebic rmse: 0.0022172\n",
      "ols rmse: 0.0030478\n",
      "pca_bma rmse: 0.0029972\n",
      "pca_lasso_bic rmse: 0.0024414\n",
      "pca_lasso_cv rmse: 0.003326\n",
      "pca_lasso_cvshuffled rmse: 0.0024578\n",
      "pca_lasso_ebic rmse: 0.0030582\n",
      "pca_ols rmse: 0.0043398\n",
      "pca_ridge_cv rmse: 0.0032522\n",
      "random_forrest rmse: 0.00201\n",
      "ridge_cv rmse: 0.0021375\n"
     ]
    }
   ],
   "source": [
    "prediction = []\n",
    "for file_name in os.listdir('predictions/'):\n",
    "    y_pred = pd.read_csv(f'predictions/{file_name}', index_col=0).to_numpy()\n",
    "    \n",
    "    name = file_name.rsplit('.', 1)[0]\n",
    "    rmse =  mean_squared_error(y_true, y_pred, squared=False)\n",
    "    print(name, \"rmse:\", round(rmse, 7))\n",
    "    prediction.append({'model': name, 'rmse:': rmse})"
   ]
  },
  {
   "cell_type": "code",
   "execution_count": 57,
   "metadata": {},
   "outputs": [
    {
     "data": {
      "text/html": [
       "<div>\n",
       "<style scoped>\n",
       "    .dataframe tbody tr th:only-of-type {\n",
       "        vertical-align: middle;\n",
       "    }\n",
       "\n",
       "    .dataframe tbody tr th {\n",
       "        vertical-align: top;\n",
       "    }\n",
       "\n",
       "    .dataframe thead th {\n",
       "        text-align: right;\n",
       "    }\n",
       "</style>\n",
       "<table border=\"1\" class=\"dataframe\">\n",
       "  <thead>\n",
       "    <tr style=\"text-align: right;\">\n",
       "      <th></th>\n",
       "      <th>model</th>\n",
       "      <th>rmse:</th>\n",
       "    </tr>\n",
       "  </thead>\n",
       "  <tbody>\n",
       "    <tr>\n",
       "      <th>0</th>\n",
       "      <td>benchmark1_mean</td>\n",
       "      <td>0.003218</td>\n",
       "    </tr>\n",
       "    <tr>\n",
       "      <th>1</th>\n",
       "      <td>benchmark2_prev</td>\n",
       "      <td>0.002667</td>\n",
       "    </tr>\n",
       "    <tr>\n",
       "      <th>2</th>\n",
       "      <td>bma</td>\n",
       "      <td>0.002450</td>\n",
       "    </tr>\n",
       "    <tr>\n",
       "      <th>3</th>\n",
       "      <td>lasso_bic</td>\n",
       "      <td>0.002254</td>\n",
       "    </tr>\n",
       "    <tr>\n",
       "      <th>4</th>\n",
       "      <td>lasso_cv</td>\n",
       "      <td>0.002102</td>\n",
       "    </tr>\n",
       "    <tr>\n",
       "      <th>5</th>\n",
       "      <td>lasso_cvshuffled</td>\n",
       "      <td>0.001999</td>\n",
       "    </tr>\n",
       "    <tr>\n",
       "      <th>6</th>\n",
       "      <td>lasso_ebic</td>\n",
       "      <td>0.002217</td>\n",
       "    </tr>\n",
       "    <tr>\n",
       "      <th>7</th>\n",
       "      <td>ols</td>\n",
       "      <td>0.003048</td>\n",
       "    </tr>\n",
       "    <tr>\n",
       "      <th>8</th>\n",
       "      <td>pca_bma</td>\n",
       "      <td>0.002997</td>\n",
       "    </tr>\n",
       "    <tr>\n",
       "      <th>9</th>\n",
       "      <td>pca_lasso_bic</td>\n",
       "      <td>0.002441</td>\n",
       "    </tr>\n",
       "    <tr>\n",
       "      <th>10</th>\n",
       "      <td>pca_lasso_cv</td>\n",
       "      <td>0.003326</td>\n",
       "    </tr>\n",
       "    <tr>\n",
       "      <th>11</th>\n",
       "      <td>pca_lasso_cvshuffled</td>\n",
       "      <td>0.002458</td>\n",
       "    </tr>\n",
       "    <tr>\n",
       "      <th>12</th>\n",
       "      <td>pca_lasso_ebic</td>\n",
       "      <td>0.003058</td>\n",
       "    </tr>\n",
       "    <tr>\n",
       "      <th>13</th>\n",
       "      <td>pca_ols</td>\n",
       "      <td>0.004340</td>\n",
       "    </tr>\n",
       "    <tr>\n",
       "      <th>14</th>\n",
       "      <td>pca_ridge_cv</td>\n",
       "      <td>0.003252</td>\n",
       "    </tr>\n",
       "    <tr>\n",
       "      <th>15</th>\n",
       "      <td>random_forrest</td>\n",
       "      <td>0.002010</td>\n",
       "    </tr>\n",
       "    <tr>\n",
       "      <th>16</th>\n",
       "      <td>ridge_cv</td>\n",
       "      <td>0.002137</td>\n",
       "    </tr>\n",
       "  </tbody>\n",
       "</table>\n",
       "</div>"
      ],
      "text/plain": [
       "                   model     rmse:\n",
       "0        benchmark1_mean  0.003218\n",
       "1        benchmark2_prev  0.002667\n",
       "2                    bma  0.002450\n",
       "3              lasso_bic  0.002254\n",
       "4               lasso_cv  0.002102\n",
       "5       lasso_cvshuffled  0.001999\n",
       "6             lasso_ebic  0.002217\n",
       "7                    ols  0.003048\n",
       "8                pca_bma  0.002997\n",
       "9          pca_lasso_bic  0.002441\n",
       "10          pca_lasso_cv  0.003326\n",
       "11  pca_lasso_cvshuffled  0.002458\n",
       "12        pca_lasso_ebic  0.003058\n",
       "13               pca_ols  0.004340\n",
       "14          pca_ridge_cv  0.003252\n",
       "15        random_forrest  0.002010\n",
       "16              ridge_cv  0.002137"
      ]
     },
     "execution_count": 57,
     "metadata": {},
     "output_type": "execute_result"
    }
   ],
   "source": [
    "pd.DataFrame(prediction)"
   ]
  },
  {
   "cell_type": "markdown",
   "metadata": {},
   "source": [
    "2000-2023 model:\n",
    "\n",
    "- benchmark1_mean rmse: 0.0026948\n",
    "- benchmark2_prev rmse: 0.0034082\n",
    "- bma rmse: 0.002297\n",
    "- lasso_bic rmse: 0.0023243\n",
    "- lasso_ebic rmse: 0.0023711\n",
    "- lasso_cv rmse: 0.0027338\n",
    "- lasso_cvshuffled rmse: 0.0027338\n",
    "- ols rmse: 0.0279417\n",
    "- ridge_cv rmse: 0.0024787"
   ]
  },
  {
   "cell_type": "markdown",
   "metadata": {},
   "source": [
    "1970-2023 model:\n",
    "\n",
    "- benchmark1_mean rmse: 0.0032184\n",
    "- benchmark2_prev rmse: 0.0026672\n",
    "- bma rmse: 0.0020436\n",
    "- lasso_bic rmse: 0.0021458\n",
    "- lasso_ebic rmse: 0.0021458\n",
    "- lasso_cv rmse: 0.0021016\n",
    "- lasso_cvshuffled rmse: 0.0019987\n",
    "- ols rmse: 0.0030478\n",
    "- ridge_cv rmse: 0.0021375"
   ]
  },
  {
   "cell_type": "markdown",
   "metadata": {},
   "source": []
  }
 ],
 "metadata": {
  "kernelspec": {
   "display_name": "Uni py312",
   "language": "python",
   "name": "uni"
  },
  "language_info": {
   "codemirror_mode": {
    "name": "ipython",
    "version": 3
   },
   "file_extension": ".py",
   "mimetype": "text/x-python",
   "name": "python",
   "nbconvert_exporter": "python",
   "pygments_lexer": "ipython3",
   "version": "3.12.0"
  }
 },
 "nbformat": 4,
 "nbformat_minor": 2
}
