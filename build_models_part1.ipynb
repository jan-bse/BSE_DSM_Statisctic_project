{
 "cells": [
  {
   "cell_type": "code",
   "execution_count": 34,
   "metadata": {},
   "outputs": [],
   "source": [
    "import statsmodels.api as sm\n",
    "import pandas as pd\n",
    "import numpy as np"
   ]
  },
  {
   "cell_type": "code",
   "execution_count": 101,
   "metadata": {},
   "outputs": [],
   "source": [
    "import warnings\n",
    "warnings.filterwarnings('ignore')"
   ]
  },
  {
   "cell_type": "code",
   "execution_count": 93,
   "metadata": {},
   "outputs": [],
   "source": [
    "df = pd.read_csv('datasets/train_set.csv')\n",
    "\n",
    "test_df = pd.read_csv('datasets/test_set.csv')"
   ]
  },
  {
   "cell_type": "code",
   "execution_count": 94,
   "metadata": {},
   "outputs": [],
   "source": [
    "X = df.loc[:, 'month':]\n",
    "y = df['cpi_pct']\n",
    "\n",
    "\n",
    "X_test = test_df.loc[:, X.columns]"
   ]
  },
  {
   "cell_type": "code",
   "execution_count": 99,
   "metadata": {},
   "outputs": [],
   "source": [
    "from sklearn.model_selection import GridSearchCV\n",
    "from sklearn.linear_model import Lasso, Ridge, LinearRegression"
   ]
  },
  {
   "cell_type": "code",
   "execution_count": null,
   "metadata": {},
   "outputs": [],
   "source": [
    "# Shuffling lead to very high lambda values wich basicly meant moth models were just predicting mean (y intercept)\n",
    "# X = X.sample(frac=1)"
   ]
  },
  {
   "cell_type": "code",
   "execution_count": 129,
   "metadata": {},
   "outputs": [],
   "source": [
    "model = LinearRegression()\n",
    "\n",
    "model.fit(X, y)\n",
    "\n",
    "pred = model.predict(X_test)\n",
    "\n",
    "pd.DataFrame(pred, index=X_test.index, columns=['pred']).to_csv('predictions/ols_pred.csv') "
   ]
  },
  {
   "cell_type": "code",
   "execution_count": 130,
   "metadata": {},
   "outputs": [
    {
     "name": "stdout",
     "output_type": "stream",
     "text": [
      "Lasso(alpha=0.00014677992676220705, max_iter=2000)\n"
     ]
    }
   ],
   "source": [
    "model = Lasso(max_iter=2000)\n",
    "\n",
    "params = {\n",
    "    'alpha': np.logspace(-8, -0.5, 100).tolist()\n",
    "}\n",
    "\n",
    "cv = GridSearchCV(model, params, cv=10)\n",
    "cv.fit(X, y)\n",
    "\n",
    "print(cv.best_estimator_)\n",
    "\n",
    "pred = cv.predict(X_test)\n",
    "\n",
    "pd.DataFrame(pred, index=X_test.index, columns=['pred']).to_csv('predictions/lassoCV_pred.csv')"
   ]
  },
  {
   "cell_type": "code",
   "execution_count": 127,
   "metadata": {},
   "outputs": [
    {
     "name": "stdout",
     "output_type": "stream",
     "text": [
      "Ridge(alpha=607.0)\n"
     ]
    }
   ],
   "source": [
    "model = Ridge()\n",
    "\n",
    "params = {\n",
    "    'alpha': np.linspace(1, 10000, 100).tolist()\n",
    "}\n",
    "\n",
    "cv = GridSearchCV(model, params, cv=10)\n",
    "cv.fit(X, y)\n",
    "\n",
    "print(cv.best_estimator_)\n",
    "\n",
    "pred = cv.predict(X_test)\n",
    "\n",
    "pd.DataFrame(pred, index=X_test.index, columns=['pred']).to_csv('predictions/ridgeCV_pred.csv')"
   ]
  },
  {
   "cell_type": "code",
   "execution_count": null,
   "metadata": {},
   "outputs": [],
   "source": []
  }
 ],
 "metadata": {
  "kernelspec": {
   "display_name": "pymc",
   "language": "python",
   "name": "python3"
  },
  "language_info": {
   "codemirror_mode": {
    "name": "ipython",
    "version": 3
   },
   "file_extension": ".py",
   "mimetype": "text/x-python",
   "name": "python",
   "nbconvert_exporter": "python",
   "pygments_lexer": "ipython3",
   "version": "3.11.7"
  }
 },
 "nbformat": 4,
 "nbformat_minor": 2
}
