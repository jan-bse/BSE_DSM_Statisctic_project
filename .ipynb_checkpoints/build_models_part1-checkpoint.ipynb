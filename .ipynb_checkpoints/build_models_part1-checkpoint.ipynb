{
 "cells": [
  {
   "cell_type": "code",
   "execution_count": 33,
   "metadata": {},
   "outputs": [],
   "source": [
    "import statsmodels.api as sm\n",
    "import pandas as pd\n",
    "import numpy as np"
   ]
  },
  {
   "cell_type": "code",
   "execution_count": 34,
   "metadata": {},
   "outputs": [],
   "source": [
    "import warnings\n",
    "warnings.filterwarnings('ignore')"
   ]
  },
  {
   "cell_type": "code",
   "execution_count": 35,
   "metadata": {},
   "outputs": [],
   "source": [
    "df = pd.read_csv('datasets/train_set.csv')\n",
    "\n",
    "test_df = pd.read_csv('datasets/test_set.csv')"
   ]
  },
  {
   "cell_type": "code",
   "execution_count": 36,
   "metadata": {},
   "outputs": [],
   "source": [
    "X = df.loc[:, 'month':]\n",
    "y = df['cpi_pct']\n",
    "\n",
    "\n",
    "X_test = test_df.loc[:, X.columns]"
   ]
  },
  {
   "cell_type": "code",
   "execution_count": 37,
   "metadata": {},
   "outputs": [],
   "source": [
    "from sklearn.model_selection import GridSearchCV\n",
    "from sklearn.linear_model import Lasso, Ridge, LinearRegression"
   ]
  },
  {
   "cell_type": "code",
   "execution_count": 38,
   "metadata": {},
   "outputs": [],
   "source": [
    "# first we gonna build 2 benchark Models\n",
    "# the first is just gonna predict the mean of the test target variable\n",
    "# the second is just gonna predict the previous month cpi"
   ]
  },
  {
   "cell_type": "code",
   "execution_count": 39,
   "metadata": {},
   "outputs": [],
   "source": [
    "pci_mean = y.mean()\n",
    "\n",
    "y_test_pred = pd.DataFrame(pci_mean, columns=['pred'], index=range(X_test.shape[0]))\n",
    "y_test_pred.to_csv('predictions/benchmark1_mean.csv')"
   ]
  },
  {
   "cell_type": "markdown",
   "metadata": {},
   "source": [
    "for the second model we already saved the prev cpi value as our test prediction:\n",
    "\n",
    "`test_df[['cpi_lag1']].rename({'cpi_lag1': 'pred'}, axis=1).reset_index(drop=True).to_csv('predictions/benchmark2_prev.csv')`"
   ]
  },
  {
   "cell_type": "code",
   "execution_count": 40,
   "metadata": {},
   "outputs": [],
   "source": [
    "# Shuffling lead to very high lambda values wich basicly meant moth models were just predicting mean (y intercept)\n",
    "# X = X.sample(frac=1)"
   ]
  },
  {
   "cell_type": "code",
   "execution_count": 41,
   "metadata": {},
   "outputs": [],
   "source": [
    "model = LinearRegression()\n",
    "\n",
    "model.fit(X, y)\n",
    "\n",
    "pred = model.predict(X_test)\n",
    "\n",
    "pd.DataFrame(pred, index=X_test.index, columns=['pred']).to_csv('predictions/ols_pred.csv') "
   ]
  },
  {
   "cell_type": "code",
   "execution_count": 42,
   "metadata": {},
   "outputs": [
    {
     "name": "stdout",
     "output_type": "stream",
     "text": [
      "Lasso(alpha=7.305271542664449e-05, max_iter=3000)\n"
     ]
    }
   ],
   "source": [
    "model = Lasso(max_iter=3000)\n",
    "\n",
    "params = {\n",
    "    'alpha': np.logspace(-8, -0.5, 100).tolist()\n",
    "}\n",
    "\n",
    "cv = GridSearchCV(model, params, cv=10)\n",
    "cv.fit(X, y)\n",
    "\n",
    "print(cv.best_estimator_)\n",
    "\n",
    "pred = cv.predict(X_test)\n",
    "\n",
    "pd.DataFrame(pred, index=X_test.index, columns=['pred']).to_csv('predictions/lassoCV_pred.csv')"
   ]
  },
  {
   "cell_type": "code",
   "execution_count": 43,
   "metadata": {},
   "outputs": [
    {
     "name": "stdout",
     "output_type": "stream",
     "text": [
      "Ridge(alpha=304.0)\n"
     ]
    }
   ],
   "source": [
    "model = Ridge()\n",
    "\n",
    "params = {\n",
    "    'alpha': np.linspace(1, 10000, 100).tolist()\n",
    "}\n",
    "\n",
    "cv = GridSearchCV(model, params, cv=10)\n",
    "cv.fit(X, y)\n",
    "\n",
    "print(cv.best_estimator_)\n",
    "\n",
    "pred = cv.predict(X_test)\n",
    "\n",
    "pd.DataFrame(pred, index=X_test.index, columns=['pred']).to_csv('predictions/ridgeCV_pred.csv')"
   ]
  },
  {
   "cell_type": "code",
   "execution_count": 44,
   "metadata": {},
   "outputs": [],
   "source": [
    "# shuffle Train dataset for CV"
   ]
  },
  {
   "cell_type": "code",
   "execution_count": 45,
   "metadata": {},
   "outputs": [
    {
     "name": "stdout",
     "output_type": "stream",
     "text": [
      "Lasso(alpha=8.697490026177834e-05, max_iter=3000)\n"
     ]
    }
   ],
   "source": [
    "model = Lasso(max_iter=3000)\n",
    "\n",
    "df = pd.read_csv('datasets/train_set.csv').sample(frac=1)\n",
    "\n",
    "X = df.loc[:, 'month':]\n",
    "y = df['cpi_pct']\n",
    "\n",
    "params = {\n",
    "    'alpha': np.logspace(-8, -0.5, 100).tolist()\n",
    "}\n",
    "\n",
    "cv = GridSearchCV(model, params, cv=10)\n",
    "cv.fit(X, y)\n",
    "\n",
    "print(cv.best_estimator_)\n",
    "\n",
    "pred = cv.predict(X_test)\n",
    "\n",
    "pd.DataFrame(pred, index=X_test.index, columns=['pred']).to_csv('predictions/lassoCV_shuffled_pred.csv')"
   ]
  },
  {
   "cell_type": "code",
   "execution_count": null,
   "metadata": {},
   "outputs": [],
   "source": []
  }
 ],
 "metadata": {
  "kernelspec": {
   "display_name": "Python 3 (ipykernel)",
   "language": "python",
   "name": "python3"
  },
  "language_info": {
   "codemirror_mode": {
    "name": "ipython",
    "version": 3
   },
   "file_extension": ".py",
   "mimetype": "text/x-python",
   "name": "python",
   "nbconvert_exporter": "python",
   "pygments_lexer": "ipython3",
   "version": "3.9.17"
  }
 },
 "nbformat": 4,
 "nbformat_minor": 2
}
