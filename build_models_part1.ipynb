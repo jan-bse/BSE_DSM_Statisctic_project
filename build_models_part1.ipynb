{
 "cells": [
  {
   "cell_type": "code",
   "execution_count": 75,
   "metadata": {},
   "outputs": [],
   "source": [
    "import statsmodels.api as sm\n",
    "import pandas as pd\n",
    "import numpy as np"
   ]
  },
  {
   "cell_type": "code",
   "execution_count": 76,
   "metadata": {},
   "outputs": [],
   "source": [
    "import warnings\n",
    "warnings.filterwarnings('ignore')"
   ]
  },
  {
   "cell_type": "code",
   "execution_count": 77,
   "metadata": {},
   "outputs": [],
   "source": [
    "USE_PCA = True"
   ]
  },
  {
   "cell_type": "code",
   "execution_count": 78,
   "metadata": {},
   "outputs": [],
   "source": [
    "if USE_PCA:\n",
    "    pca_prefix = 'pca_'\n",
    "    pca_sufix = '_pca'\n",
    "else:\n",
    "    pca_prefix = ''\n",
    "    pca_sufix = ''\n",
    "\n",
    "df = pd.read_csv(f'datasets/train_set{pca_sufix}.csv')\n",
    "test_df = pd.read_csv(f'datasets/test_set{pca_sufix}.csv')\n",
    "\n",
    "if USE_PCA:\n",
    "    X = df.loc[:, 'pca_0':]\n",
    "else:\n",
    "    X = df.loc[:, 'month':]\n",
    "    \n",
    "y = df['cpi_pct']\n",
    "X_shuffled = df.sample(frac=1).loc[:, X.columns]\n",
    "X_test = test_df.loc[:, X.columns]"
   ]
  },
  {
   "cell_type": "code",
   "execution_count": 79,
   "metadata": {},
   "outputs": [],
   "source": [
    "from sklearn.model_selection import GridSearchCV\n",
    "from sklearn.linear_model import Lasso, Ridge, LinearRegression"
   ]
  },
  {
   "cell_type": "code",
   "execution_count": 83,
   "metadata": {},
   "outputs": [],
   "source": [
    "model = LinearRegression()\n",
    "\n",
    "model.fit(X, y)\n",
    "\n",
    "pred = model.predict(X_test)\n",
    "\n",
    "pd.DataFrame(pred, index=X_test.index, columns=['pred']).to_csv(f'predictions/{pca_prefix}ols.csv') "
   ]
  },
  {
   "cell_type": "code",
   "execution_count": 84,
   "metadata": {},
   "outputs": [
    {
     "name": "stdout",
     "output_type": "stream",
     "text": [
      "Lasso(alpha=0.0001747528400007683, max_iter=3000)\n"
     ]
    }
   ],
   "source": [
    "model = Lasso(max_iter=3000)\n",
    "\n",
    "params = {\n",
    "    'alpha': np.logspace(-8, -0.5, 100).tolist()\n",
    "}\n",
    "\n",
    "cv = GridSearchCV(model, params, cv=10)\n",
    "cv.fit(X, y)\n",
    "\n",
    "print(cv.best_estimator_)\n",
    "\n",
    "pred = cv.predict(X_test)\n",
    "\n",
    "pd.DataFrame(pred, index=X_test.index, columns=['pred']).to_csv(f'predictions/{pca_prefix}lasso_cv.csv')"
   ]
  },
  {
   "cell_type": "code",
   "execution_count": 85,
   "metadata": {},
   "outputs": [
    {
     "name": "stdout",
     "output_type": "stream",
     "text": [
      "Ridge(alpha=304.0)\n"
     ]
    }
   ],
   "source": [
    "model = Ridge()\n",
    "\n",
    "params = {\n",
    "    'alpha': np.linspace(1, 10000, 100).tolist()\n",
    "}\n",
    "\n",
    "cv = GridSearchCV(model, params, cv=10)\n",
    "cv.fit(X, y)\n",
    "\n",
    "print(cv.best_estimator_)\n",
    "\n",
    "pred = cv.predict(X_test)\n",
    "\n",
    "pd.DataFrame(pred, index=X_test.index, columns=['pred']).to_csv(f'predictions/{pca_prefix}ridge_cv.csv')"
   ]
  },
  {
   "cell_type": "code",
   "execution_count": 86,
   "metadata": {},
   "outputs": [],
   "source": [
    "# shuffle Train dataset for CV"
   ]
  },
  {
   "cell_type": "code",
   "execution_count": 87,
   "metadata": {},
   "outputs": [
    {
     "name": "stdout",
     "output_type": "stream",
     "text": [
      "Lasso(alpha=0.0004977023564332114, max_iter=3000)\n"
     ]
    }
   ],
   "source": [
    "model = Lasso(max_iter=3000)\n",
    "\n",
    "params = {\n",
    "    'alpha': np.logspace(-8, -0.5, 100).tolist()\n",
    "}\n",
    "\n",
    "cv = GridSearchCV(model, params, cv=10)\n",
    "cv.fit(X_shuffled, y)\n",
    "\n",
    "print(cv.best_estimator_)\n",
    "\n",
    "pred = cv.predict(X_test)\n",
    "\n",
    "pd.DataFrame(pred, index=X_test.index, columns=['pred']).to_csv(f'predictions/{pca_prefix}lasso_cvshuffled.csv')"
   ]
  },
  {
   "cell_type": "code",
   "execution_count": 88,
   "metadata": {},
   "outputs": [],
   "source": [
    "lasso_cv_coefs = pd.DataFrame(cv.best_estimator_.coef_, index=cv.feature_names_in_, columns=['coef'])\n",
    "lasso_cv_coefs.to_csv('models/lasso_cv_coefs.csv')"
   ]
  },
  {
   "cell_type": "markdown",
   "metadata": {},
   "source": [
    "# Coeficients chosen by our best model Shuffled Lasso CV"
   ]
  },
  {
   "cell_type": "code",
   "execution_count": 89,
   "metadata": {},
   "outputs": [
    {
     "data": {
      "text/html": [
       "<div>\n",
       "<style scoped>\n",
       "    .dataframe tbody tr th:only-of-type {\n",
       "        vertical-align: middle;\n",
       "    }\n",
       "\n",
       "    .dataframe tbody tr th {\n",
       "        vertical-align: top;\n",
       "    }\n",
       "\n",
       "    .dataframe thead th {\n",
       "        text-align: right;\n",
       "    }\n",
       "</style>\n",
       "<table border=\"1\" class=\"dataframe\">\n",
       "  <thead>\n",
       "    <tr style=\"text-align: right;\">\n",
       "      <th></th>\n",
       "      <th>coef</th>\n",
       "    </tr>\n",
       "  </thead>\n",
       "  <tbody>\n",
       "  </tbody>\n",
       "</table>\n",
       "</div>"
      ],
      "text/plain": [
       "Empty DataFrame\n",
       "Columns: [coef]\n",
       "Index: []"
      ]
     },
     "execution_count": 89,
     "metadata": {},
     "output_type": "execute_result"
    }
   ],
   "source": [
    "lasso_cv_coefs[lasso_cv_coefs.coef != 0]"
   ]
  },
  {
   "cell_type": "markdown",
   "metadata": {},
   "source": []
  }
 ],
 "metadata": {
  "kernelspec": {
   "display_name": "Python 3 (ipykernel)",
   "language": "python",
   "name": "python3"
  },
  "language_info": {
   "codemirror_mode": {
    "name": "ipython",
    "version": 3
   },
   "file_extension": ".py",
   "mimetype": "text/x-python",
   "name": "python",
   "nbconvert_exporter": "python",
   "pygments_lexer": "ipython3",
   "version": "3.11.7"
  }
 },
 "nbformat": 4,
 "nbformat_minor": 2
}
