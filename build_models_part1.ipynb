{
 "cells": [
  {
   "cell_type": "code",
   "execution_count": 19,
   "metadata": {},
   "outputs": [],
   "source": [
    "import pandas as pd\n",
    "import numpy as np"
   ]
  },
  {
   "cell_type": "code",
   "execution_count": 20,
   "metadata": {},
   "outputs": [],
   "source": [
    "import warnings\n",
    "warnings.filterwarnings('ignore')"
   ]
  },
  {
   "cell_type": "code",
   "execution_count": 21,
   "metadata": {},
   "outputs": [],
   "source": [
    "USE_PCA = False"
   ]
  },
  {
   "cell_type": "code",
   "execution_count": 22,
   "metadata": {},
   "outputs": [],
   "source": [
    "if USE_PCA:\n",
    "    pca_prefix = 'pca_'\n",
    "    pca_sufix = '_pca'\n",
    "else:\n",
    "    pca_prefix = ''\n",
    "    pca_sufix = ''\n",
    "\n",
    "df = pd.read_csv(f'datasets/train_set{pca_sufix}.csv')\n",
    "test_df = pd.read_csv(f'datasets/test_set{pca_sufix}.csv')\n",
    "\n",
    "if USE_PCA:\n",
    "    X = df.loc[:, 'pca_0':]\n",
    "else:\n",
    "    X = df.loc[:, 'month':]\n",
    "    \n",
    "y = df['cpi_pct']\n",
    "X_shuffled = df.sample(frac=1).loc[:, X.columns]\n",
    "X_test = test_df.loc[:, X.columns]"
   ]
  },
  {
   "cell_type": "code",
   "execution_count": 23,
   "metadata": {},
   "outputs": [],
   "source": [
    "from sklearn.model_selection import GridSearchCV\n",
    "from sklearn.linear_model import Lasso, Ridge, LinearRegression"
   ]
  },
  {
   "cell_type": "code",
   "execution_count": 24,
   "metadata": {},
   "outputs": [],
   "source": [
    "model = LinearRegression()\n",
    "\n",
    "model.fit(X, y)\n",
    "\n",
    "pred = model.predict(X_test)\n",
    "\n",
    "pd.DataFrame(pred, index=X_test.index, columns=['pred']).to_csv(f'predictions/{pca_prefix}ols.csv') "
   ]
  },
  {
   "cell_type": "code",
   "execution_count": 25,
   "metadata": {},
   "outputs": [
    {
     "name": "stdout",
     "output_type": "stream",
     "text": [
      "Lasso(alpha=0.0002477076355991714, max_iter=3000)\n"
     ]
    }
   ],
   "source": [
    "model = Lasso(max_iter=3000)\n",
    "\n",
    "params = {\n",
    "    'alpha': np.logspace(-8, -0.5, 100).tolist()\n",
    "}\n",
    "\n",
    "cv = GridSearchCV(model, params, cv=10)\n",
    "cv.fit(X, y)\n",
    "\n",
    "print(cv.best_estimator_)\n",
    "\n",
    "pred = cv.predict(X_test)\n",
    "\n",
    "pd.DataFrame(pred, index=X_test.index, columns=['pred']).to_csv(f'predictions/{pca_prefix}lasso_cv.csv')"
   ]
  },
  {
   "cell_type": "code",
   "execution_count": 26,
   "metadata": {},
   "outputs": [
    {
     "name": "stdout",
     "output_type": "stream",
     "text": [
      "Ridge(alpha=506.0)\n"
     ]
    }
   ],
   "source": [
    "model = Ridge()\n",
    "\n",
    "params = {\n",
    "    'alpha': np.linspace(1, 10000, 100).tolist()\n",
    "}\n",
    "\n",
    "cv = GridSearchCV(model, params, cv=10)\n",
    "cv.fit(X, y)\n",
    "\n",
    "print(cv.best_estimator_)\n",
    "\n",
    "pred = cv.predict(X_test)\n",
    "\n",
    "pd.DataFrame(pred, index=X_test.index, columns=['pred']).to_csv(f'predictions/{pca_prefix}ridge_cv.csv')"
   ]
  },
  {
   "cell_type": "code",
   "execution_count": 27,
   "metadata": {},
   "outputs": [],
   "source": [
    "# shuffle Train dataset for CV"
   ]
  },
  {
   "cell_type": "code",
   "execution_count": 28,
   "metadata": {},
   "outputs": [
    {
     "name": "stdout",
     "output_type": "stream",
     "text": [
      "Lasso(alpha=0.00041803449618514534, max_iter=3000)\n"
     ]
    }
   ],
   "source": [
    "model = Lasso(max_iter=3000)\n",
    "\n",
    "params = {\n",
    "    'alpha': np.logspace(-8, -0.5, 100).tolist()\n",
    "}\n",
    "\n",
    "cv = GridSearchCV(model, params, cv=10)\n",
    "cv.fit(X_shuffled, y)\n",
    "\n",
    "print(cv.best_estimator_)\n",
    "\n",
    "pred = cv.predict(X_test)\n",
    "\n",
    "pd.DataFrame(pred, index=X_test.index, columns=['pred']).to_csv(f'predictions/{pca_prefix}lasso_cvshuffled.csv')"
   ]
  },
  {
   "cell_type": "code",
   "execution_count": 29,
   "metadata": {},
   "outputs": [],
   "source": [
    "lasso_cv_coefs = pd.DataFrame(cv.best_estimator_.coef_, index=cv.feature_names_in_, columns=['coef'])\n",
    "lasso_cv_coefs.to_csv('models/lasso_cv_coefs.csv')"
   ]
  },
  {
   "cell_type": "markdown",
   "metadata": {},
   "source": [
    "# Coeficients chosen by our best model Shuffled Lasso CV"
   ]
  },
  {
   "cell_type": "code",
   "execution_count": 30,
   "metadata": {},
   "outputs": [
    {
     "data": {
      "text/html": [
       "<div>\n",
       "<style scoped>\n",
       "    .dataframe tbody tr th:only-of-type {\n",
       "        vertical-align: middle;\n",
       "    }\n",
       "\n",
       "    .dataframe tbody tr th {\n",
       "        vertical-align: top;\n",
       "    }\n",
       "\n",
       "    .dataframe thead th {\n",
       "        text-align: right;\n",
       "    }\n",
       "</style>\n",
       "<table border=\"1\" class=\"dataframe\">\n",
       "  <thead>\n",
       "    <tr style=\"text-align: right;\">\n",
       "      <th></th>\n",
       "      <th>coef</th>\n",
       "    </tr>\n",
       "  </thead>\n",
       "  <tbody>\n",
       "    <tr>\n",
       "      <th>cpi_50ema</th>\n",
       "      <td>0.00012</td>\n",
       "    </tr>\n",
       "  </tbody>\n",
       "</table>\n",
       "</div>"
      ],
      "text/plain": [
       "              coef\n",
       "cpi_50ema  0.00012"
      ]
     },
     "execution_count": 30,
     "metadata": {},
     "output_type": "execute_result"
    }
   ],
   "source": [
    "lasso_cv_coefs[lasso_cv_coefs.coef != 0]"
   ]
  },
  {
   "cell_type": "markdown",
   "metadata": {},
   "source": [
    "# Plotting Model Predictions"
   ]
  },
  {
   "cell_type": "code",
   "execution_count": 31,
   "metadata": {},
   "outputs": [],
   "source": [
    "import matplotlib.pyplot as plt\n",
    "import seaborn as sns  # Import seaborn for a nicer color palette\n",
    "\n",
    "# Set a seaborn style\n",
    "sns.set(style=\"whitegrid\")\n",
    "\n",
    "# Deep, muted, and bright are good choices for a color palette\n",
    "colors = sns.color_palette(\"deep\")"
   ]
  },
  {
   "cell_type": "code",
   "execution_count": 32,
   "metadata": {},
   "outputs": [],
   "source": [
    "whole_data = pd.read_pickle('datasets/whole_dataset.pkl')"
   ]
  },
  {
   "cell_type": "code",
   "execution_count": 36,
   "metadata": {},
   "outputs": [],
   "source": [
    "whole_data['lassoCV_pred'] = cv.predict(whole_data.loc[:, X.columns])"
   ]
  },
  {
   "cell_type": "code",
   "execution_count": 42,
   "metadata": {},
   "outputs": [
    {
     "data": {
      "image/png": "[encoded data removed]",
      "text/plain": [
       "<Figure size 1000x700 with 1 Axes>"
      ]
     },
     "metadata": {},
     "output_type": "display_data"
    }
   ],
   "source": [
    "plot_data = whole_data.iloc[-100:, :]\n",
    "\n",
    "\n",
    "# Create subplots with 1 row and 2 columns\n",
    "fig, axs = plt.subplots(1, 1, figsize=(10, 7))\n",
    "\n",
    "# Plot the first graph on the left\n",
    "axs.scatter(plot_data.index, plot_data['cpi_pct'], color=colors[0], label='target y')\n",
    "axs.scatter(plot_data.index, plot_data['lassoCV_pred'], color=colors[1], label='prediction y')\n",
    "axs.set_title('Lasso CV - True Y vs. Prediction', fontsize=14, fontweight='bold')\n",
    "axs.legend()\n",
    "axs.grid(True)\n",
    "\n",
    "# Adjust layout to prevent clipping of titles\n",
    "plt.tight_layout()\n",
    "\n",
    "# Show the plots\n",
    "plt.savefig('plots/predictions.png', dpi=300)"
   ]
  },
  {
   "cell_type": "code",
   "execution_count": null,
   "metadata": {},
   "outputs": [],
   "source": []
  }
 ],
 "metadata": {
  "kernelspec": {
   "display_name": "Uni py312",
   "language": "python",
   "name": "uni"
  },
  "language_info": {
   "codemirror_mode": {
    "name": "ipython",
    "version": 3
   },
   "file_extension": ".py",
   "mimetype": "text/x-python",
   "name": "python",
   "nbconvert_exporter": "python",
   "pygments_lexer": "ipython3",
   "version": "3.12.0"
  }
 },
 "nbformat": 4,
 "nbformat_minor": 2
}
