{
 "cells": [
  {
   "cell_type": "code",
   "execution_count": null,
   "id": "0a721110-055f-4af4-b19b-317fd8d51ffb",
   "metadata": {},
   "outputs": [],
   "source": [
    "split_pct = 0.25"
   ]
  }
 ],
 "metadata": {
  "kernelspec": {
   "display_name": "pymc3.11",
   "language": "python",
   "name": "pymc"
  },
  "language_info": {
   "codemirror_mode": {
    "name": "ipython",
    "version": 3
   },
   "file_extension": ".py",
   "mimetype": "text/x-python",
   "name": "python",
   "nbconvert_exporter": "python",
   "pygments_lexer": "ipython3",
   "version": "3.11.7"
  }
 },
 "nbformat": 4,
 "nbformat_minor": 5
}
